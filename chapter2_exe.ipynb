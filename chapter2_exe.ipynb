{
  "nbformat": 4,
  "nbformat_minor": 0,
  "metadata": {
    "colab": {
      "provenance": [],
      "authorship_tag": "ABX9TyOzz6BBAiZHyWEQ2khT3+tu",
      "include_colab_link": true
    },
    "kernelspec": {
      "name": "python3",
      "display_name": "Python 3"
    },
    "language_info": {
      "name": "python"
    }
  },
  "cells": [
    {
      "cell_type": "markdown",
      "metadata": {
        "id": "view-in-github",
        "colab_type": "text"
      },
      "source": [
        "<a href=\"https://colab.research.google.com/github/rlaehgus5531/22_05_python_ch2/blob/main/chapter2_exe.ipynb\" target=\"_parent\"><img src=\"https://colab.research.google.com/assets/colab-badge.svg\" alt=\"Open In Colab\"/></a>"
      ]
    },
    {
      "cell_type": "markdown",
      "source": [
        "(1) 사용자한테 이름과 나이를 입력하게 한다 사용자가 100살이 되는 연도를 화면에 출력하는 프로그램을 작성하라"
      ],
      "metadata": {
        "id": "xvnqdffCVBlL"
      }
    },
    {
      "cell_type": "code",
      "source": [
        "name=input(\"이름을 입력하시오. \")       # 변수 name에 input함수를 사용하여 사용자에게 이름을 입력받는 부분\n",
        "age = int(input(\"나이를 입력하시오\"))   #변수 age에 intger(정수형선언)함수를 사용자에게 나이를 입력받음\n",
        "year = 2022 - age + 100                 #변수year에 현재 연도 - 변수(age)+100\n",
        "print(name + \"씨는\"+ str(year) + \"년에 100살 입니다\")"
      ],
      "metadata": {
        "colab": {
          "base_uri": "https://localhost:8080/"
        },
        "id": "WVnUoikKVD_8",
        "outputId": "1cfe16f5-42f6-43b0-d5f5-c009b42ad43f"
      },
      "execution_count": 1,
      "outputs": [
        {
          "output_type": "stream",
          "name": "stdout",
          "text": [
            "이름을 입력하시오. 김도현\n",
            "나이를 입력하시오20\n",
            "김도현씨는2102년에 100살 입니다\n"
          ]
        }
      ]
    },
    {
      "cell_type": "markdown",
      "source": [
        "(2)사용자로부터 3개의 숫자를 받아서 평균을 구하라"
      ],
      "metadata": {
        "id": "1o_xvo3zVKEk"
      }
    },
    {
      "cell_type": "code",
      "source": [
        "n1 =int(input(\"첫번째 숫자를 입력하시오\"))\n",
        "n2 = int(input(\"두번째 숫자를 입력하시오\"))\n",
        "n3 = int(input(\"세번째 숫자를 입력하시오\"))\n",
        "aver = (n1 + n2 +n3) / 3\n",
        "sum = n1 + n2 + n3\n",
        "print( n1, n2 , n3, \"의합은\",str(sum) + \"이고\" , \"의평균은\", aver, \"입니다\")"
      ],
      "metadata": {
        "colab": {
          "base_uri": "https://localhost:8080/"
        },
        "id": "-9zeU0fPVLk2",
        "outputId": "8f1096a9-fb97-4a15-e09d-904913f27252"
      },
      "execution_count": 5,
      "outputs": [
        {
          "output_type": "stream",
          "name": "stdout",
          "text": [
            "첫번째 숫자를 입력하시오10\n",
            "두번째 숫자를 입력하시오20\n",
            "세번째 숫자를 입력하시오30\n",
            "10 20 30 의합은 60이고 의평균은 20.0 입니다\n"
          ]
        }
      ]
    },
    {
      "cell_type": "markdown",
      "source": [
        "(3) 사용자로부터 반지름을 입력받아서 면적을 구하시오"
      ],
      "metadata": {
        "id": "C6JZP4X6V6iU"
      }
    },
    {
      "cell_type": "code",
      "source": [
        "radious = int(input(\"반지름을 입력하시오\"))\n",
        "area = 3.141592 * radious * radious\n",
        "print(\"반지름이\" ,radious, \"인 원의 넓이는 =\", area ,\"입니다\")"
      ],
      "metadata": {
        "colab": {
          "base_uri": "https://localhost:8080/"
        },
        "id": "cQ1T7sC6V7lc",
        "outputId": "b6a2a359-5de6-4fae-a97d-9d059b063e2f"
      },
      "execution_count": 9,
      "outputs": [
        {
          "output_type": "stream",
          "name": "stdout",
          "text": [
            "반지름을 입력하시오10\n",
            "반지름이 10 인 원의 넓이는 = 314.1592 입니다\n"
          ]
        }
      ]
    }
  ]
}